{
 "cells": [
  {
   "cell_type": "code",
   "execution_count": 1,
   "id": "399a918a",
   "metadata": {},
   "outputs": [],
   "source": [
    "import numpy as np\n",
    "import tensorflow as tf\n",
    "from tensorflow import keras\n",
    "from tensorflow.keras.datasets import imdb\n",
    "from tensorflow.keras.preprocessing.sequence import pad_sequences\n",
    "import time\n",
    "import matplotlib.pyplot as plt"
   ]
  },
  {
   "cell_type": "code",
   "execution_count": 2,
   "id": "8336c3fa",
   "metadata": {},
   "outputs": [],
   "source": [
    "vocab_size = 10000\n",
    "max_length = 200\n",
    "embedding_dim = 16\n",
    "num_epochs = 10"
   ]
  },
  {
   "cell_type": "code",
   "execution_count": 3,
   "id": "42d63641",
   "metadata": {},
   "outputs": [],
   "source": [
    "(train_data, train_labels), (test_data, test_labels) = imdb.load_data(num_words=vocab_size)"
   ]
  },
  {
   "cell_type": "code",
   "execution_count": 4,
   "id": "c83a42c3",
   "metadata": {},
   "outputs": [],
   "source": [
    "train_data = pad_sequences(train_data, maxlen=max_length)\n",
    "test_data = pad_sequences(test_data, maxlen=max_length)"
   ]
  },
  {
   "cell_type": "code",
   "execution_count": 5,
   "id": "76d445b8",
   "metadata": {},
   "outputs": [],
   "source": [
    "model = keras.Sequential([\n",
    "    keras.layers.Embedding(vocab_size, embedding_dim, input_length=max_length),\n",
    "    keras.layers.GlobalAveragePooling1D(),\n",
    "    keras.layers.Dense(16, activation='relu'),\n",
    "    keras.layers.Dropout(0.5),  # Dropout layer added\n",
    "    keras.layers.Dense(1, activation='sigmoid')\n",
    "])"
   ]
  },
  {
   "cell_type": "code",
   "execution_count": 6,
   "id": "f79099c8",
   "metadata": {},
   "outputs": [],
   "source": [
    "model.compile(optimizer='adam',\n",
    "              loss='binary_crossentropy',\n",
    "              metrics=['accuracy'])"
   ]
  },
  {
   "cell_type": "code",
   "execution_count": 7,
   "id": "4562032f",
   "metadata": {},
   "outputs": [
    {
     "name": "stdout",
     "output_type": "stream",
     "text": [
      "Epoch 1/10\n",
      "782/782 [==============================] - 10s 10ms/step - loss: 0.5602 - accuracy: 0.7402 - val_loss: 0.3657 - val_accuracy: 0.8622\n",
      "Epoch 2/10\n",
      "782/782 [==============================] - 7s 9ms/step - loss: 0.3304 - accuracy: 0.8768 - val_loss: 0.3009 - val_accuracy: 0.8774\n",
      "Epoch 3/10\n",
      "782/782 [==============================] - 8s 10ms/step - loss: 0.2672 - accuracy: 0.9073 - val_loss: 0.2925 - val_accuracy: 0.8784\n",
      "Epoch 4/10\n",
      "782/782 [==============================] - 7s 9ms/step - loss: 0.2264 - accuracy: 0.9247 - val_loss: 0.3023 - val_accuracy: 0.8754\n",
      "Epoch 5/10\n",
      "782/782 [==============================] - 8s 10ms/step - loss: 0.1976 - accuracy: 0.9368 - val_loss: 0.3135 - val_accuracy: 0.8739\n",
      "Epoch 6/10\n",
      "782/782 [==============================] - 7s 9ms/step - loss: 0.1737 - accuracy: 0.9466 - val_loss: 0.3360 - val_accuracy: 0.8710\n",
      "Epoch 7/10\n",
      "782/782 [==============================] - 7s 9ms/step - loss: 0.1543 - accuracy: 0.9548 - val_loss: 0.3623 - val_accuracy: 0.8667\n",
      "Epoch 8/10\n",
      "782/782 [==============================] - 8s 10ms/step - loss: 0.1393 - accuracy: 0.9610 - val_loss: 0.3965 - val_accuracy: 0.8648\n",
      "Epoch 9/10\n",
      "782/782 [==============================] - 7s 9ms/step - loss: 0.1269 - accuracy: 0.9668 - val_loss: 0.4220 - val_accuracy: 0.8588\n",
      "Epoch 10/10\n",
      "782/782 [==============================] - 7s 9ms/step - loss: 0.1154 - accuracy: 0.9686 - val_loss: 0.4530 - val_accuracy: 0.8576\n",
      "Training Time: 77.38135528564453 seconds\n"
     ]
    }
   ],
   "source": [
    "start_time = time.time()\n",
    "history = model.fit(train_data, train_labels, epochs=num_epochs, validation_data=(test_data, test_labels), verbose=1)\n",
    "end_time = time.time()\n",
    "training_time = end_time - start_time\n",
    "\n",
    "print(f\"Training Time: {training_time} seconds\")"
   ]
  },
  {
   "cell_type": "code",
   "execution_count": 8,
   "id": "8707de07",
   "metadata": {},
   "outputs": [
    {
     "data": {
      "image/png": "[encoded data removed]",
      "text/plain": [
       "<Figure size 640x480 with 1 Axes>"
      ]
     },
     "metadata": {},
     "output_type": "display_data"
    }
   ],
   "source": [
    "plt.plot(history.history['accuracy'], label='accuracy')\n",
    "plt.plot(history.history['val_accuracy'], label='val_accuracy')\n",
    "plt.xlabel('Epoch')\n",
    "plt.ylabel('Accuracy')\n",
    "plt.legend(loc='lower right')\n",
    "plt.show()"
   ]
  },
  {
   "cell_type": "code",
   "execution_count": 9,
   "id": "532e527c",
   "metadata": {},
   "outputs": [
    {
     "name": "stdout",
     "output_type": "stream",
     "text": [
      "782/782 [==============================] - 3s 3ms/step - loss: 0.4530 - accuracy: 0.8576\n",
      "Test accuracy: 0.8575599789619446\n"
     ]
    }
   ],
   "source": [
    "test_loss, test_acc = model.evaluate(test_data, test_labels)\n",
    "print(f'Test accuracy: {test_acc}')"
   ]
  },
  {
   "cell_type": "code",
   "execution_count": 10,
   "id": "2c509e61",
   "metadata": {},
   "outputs": [],
   "source": [
    "def classify_review(review_text):\n",
    "    word_index = imdb.get_word_index()\n",
    "    words = review_text.lower().split()\n",
    "    \n",
    "    # Remove stopwords\n",
    "    stopwords = ['i', 'me', 'my', 'myself', 'we', 'our', 'ours', 'ourselves', 'you', \"you're\", \"you've\", \"you'll\", \"you'd\", 'your', 'yours', 'yourself', 'yourselves', 'he', 'him', 'his', 'himself', 'she', \"she's\", 'her', 'hers', 'herself', 'it', \"it's\", 'its', 'itself', 'they', 'them', 'their', 'theirs', 'themselves', 'what', 'which', 'who', 'whom', 'this', 'that', \"that'll\", 'these', 'those', 'am', 'is', 'are', 'was', 'were', 'be', 'been', 'being', 'have', 'has', 'had', 'having', 'do', 'does', 'did', 'doing', 'a', 'an', 'the', 'and', 'but', 'if', 'or', 'because', 'as', 'until', 'while', 'of', 'at', 'by', 'for', 'with', 'about', 'against', 'between', 'into', 'through', 'during', 'before', 'after', 'above', 'below', 'to', 'from', 'up', 'down', 'in', 'out', 'on', 'off', 'over', 'under', 'again', 'further', 'then', 'once', 'here', 'there', 'when', 'where', 'why', 'how', 'all', 'any', 'both', 'each', 'few', 'more', 'most', 'other', 'some', 'such', 'no', 'nor', 'not', 'only', 'own', 'same', 'so', 'than', 'too', 'very', 's', 't', 'can', 'will', 'just', 'don', \"don't\", 'should', \"should've\", 'now', 'd', 'll', 'm', 'o', 're', 've', 'y', 'ain', 'aren', \"aren't\", 'couldn', \"couldn't\", 'didn', \"didn't\", 'doesn', \"doesn't\", 'hadn', \"hadn't\", 'hasn', \"hasn't\", 'haven', \"haven't\", 'isn', \"isn't\", 'ma', 'mightn', \"mightn't\", 'mustn', \"mustn't\", 'needn', \"needn't\", 'shan', \"shan't\", 'shouldn', \"shouldn't\", 'wasn', \"wasn't\", 'weren', \"weren't\", 'won', \"won't\", 'wouldn', \"wouldn't\"]\n",
    "    words = [word for word in words if word not in stopwords]\n",
    "    \n",
    "    review = [1]\n",
    "    for word in words:\n",
    "        index = word_index.get(word, 0)\n",
    "        if index < vocab_size:\n",
    "            review.append(index + 3)\n",
    "        else:\n",
    "            review.append(2)\n",
    "    review = pad_sequences([review], maxlen=max_length)\n",
    "    start_time = time.time()\n",
    "    prediction = model.predict(review)\n",
    "    end_time = time.time()\n",
    "    pred_time = end_time - start_time\n",
    "    return \"Positive\" if prediction[0][0] >= 0.5 else \"Negative\", pred_time"
   ]
  },
  {
   "cell_type": "code",
   "execution_count": 11,
   "id": "3b2825b6",
   "metadata": {},
   "outputs": [],
   "source": [
    "def get_user_review():\n",
    "    review = input(\"Please enter your movie review: \")\n",
    "    return review"
   ]
  },
  {
   "cell_type": "code",
   "execution_count": null,
   "id": "a5b69bf4",
   "metadata": {},
   "outputs": [
    {
     "name": "stdout",
     "output_type": "stream",
     "text": [
      "Please enter your movie review: I normally don't review movies, specially never a negative review as i can understand how much hard work goes into it and its disheartening for them to see a bad review, but this movie has been a HUGE disappointment from start to finish.\n",
      "1/1 [==============================] - 0s 234ms/step\n",
      "\n",
      "Classification: Negative\n",
      "Prediction Time: 0.34676575660705566 seconds\n"
     ]
    }
   ],
   "source": [
    "while True:\n",
    "    review = get_user_review()\n",
    "    classification, pred_time = classify_review(review)\n",
    "    print(f\"\\nClassification: {classification}\")\n",
    "    print(f\"Prediction Time: {pred_time} seconds\")\n",
    "    continue_input = input(\"Do you want to classify another review? (yes/no): \")\n",
    "    if continue_input.lower() != 'yes':\n",
    "        break"
   ]
  },
  {
   "cell_type": "code",
   "execution_count": null,
   "id": "f051d4a5",
   "metadata": {},
   "outputs": [],
   "source": []
  }
 ],
 "metadata": {
  "kernelspec": {
   "display_name": "Python 3 (ipykernel)",
   "language": "python",
   "name": "python3"
  },
  "language_info": {
   "codemirror_mode": {
    "name": "ipython",
    "version": 3
   },
   "file_extension": ".py",
   "mimetype": "text/x-python",
   "name": "python",
   "nbconvert_exporter": "python",
   "pygments_lexer": "ipython3",
   "version": "3.10.1"
  }
 },
 "nbformat": 4,
 "nbformat_minor": 5
}
